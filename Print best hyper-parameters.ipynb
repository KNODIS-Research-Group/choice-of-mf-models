{
 "cells": [
  {
   "cell_type": "code",
   "execution_count": 28,
   "metadata": {
    "ExecuteTime": {
     "end_time": "2022-02-22T14:51:28.871818Z",
     "start_time": "2022-02-22T14:51:28.866462Z"
    }
   },
   "outputs": [],
   "source": [
    "import pandas as pd\n",
    "pd.set_option('display.max_colwidth',1000)"
   ]
  },
  {
   "cell_type": "code",
   "execution_count": 32,
   "metadata": {
    "ExecuteTime": {
     "end_time": "2022-02-24T08:41:12.775870Z",
     "start_time": "2022-02-24T08:41:12.770928Z"
    }
   },
   "outputs": [],
   "source": [
    "dataset = 'anime'"
   ]
  },
  {
   "cell_type": "code",
   "execution_count": 33,
   "metadata": {
    "ExecuteTime": {
     "end_time": "2022-02-24T08:41:13.155281Z",
     "start_time": "2022-02-24T08:41:13.150780Z"
    }
   },
   "outputs": [],
   "source": [
    "recommenders = ['pmf', 'biasedmf', 'bemf', 'nmf', 'bnmf', 'urp']"
   ]
  },
  {
   "cell_type": "code",
   "execution_count": 34,
   "metadata": {
    "ExecuteTime": {
     "end_time": "2022-02-24T08:41:13.540696Z",
     "start_time": "2022-02-24T08:41:13.508831Z"
    }
   },
   "outputs": [
    {
     "name": "stdout",
     "output_type": "stream",
     "text": [
      "pmf -> {numIters=100, lambda=0.001, seed=42, gamma=0.001, numFactors=4}\n",
      "biasedmf -> {numIters=75, lambda=0.1, seed=42, gamma=0.01, numFactors=4}\n",
      "bemf -> {numIters=100, seed=42, ratings=[D@2aae9190, learningRate=0.001, regularization=1.0, numFactors=4}\n",
      "nmf -> {seed=42, numIters=100, numFactors=4}\n",
      "bnmf -> {numIters=100, seed=42, beta=5.0, alpha=0.4, numFactors=8}\n",
      "urp -> {numIters=25, seed=42, ratings=[D@244038d0, numFactors=4}\n"
     ]
    }
   ],
   "source": [
    "for recommender in recommenders:\n",
    "    df = pd.read_csv('results/' + dataset + '/' + recommender + '.csv')\n",
    "    best = df[df.mae_avg == df.mae_avg.min()]['params'].values[0]\n",
    "    print(recommender + \" -> \" + best)"
   ]
  },
  {
   "cell_type": "code",
   "execution_count": null,
   "metadata": {},
   "outputs": [],
   "source": []
  }
 ],
 "metadata": {
  "kernelspec": {
   "display_name": "Python 3",
   "language": "python",
   "name": "python3"
  },
  "language_info": {
   "codemirror_mode": {
    "name": "ipython",
    "version": 3
   },
   "file_extension": ".py",
   "mimetype": "text/x-python",
   "name": "python",
   "nbconvert_exporter": "python",
   "pygments_lexer": "ipython3",
   "version": "3.8.5"
  },
  "toc": {
   "base_numbering": 1,
   "nav_menu": {},
   "number_sections": false,
   "sideBar": true,
   "skip_h1_title": false,
   "title_cell": "Table of Contents",
   "title_sidebar": "Contents",
   "toc_cell": false,
   "toc_position": {},
   "toc_section_display": true,
   "toc_window_display": false
  }
 },
 "nbformat": 4,
 "nbformat_minor": 4
}
